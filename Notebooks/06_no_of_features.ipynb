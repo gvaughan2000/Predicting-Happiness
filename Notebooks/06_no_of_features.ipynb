{
 "cells": [
  {
   "cell_type": "code",
   "execution_count": 1,
   "id": "9938dc07",
   "metadata": {},
   "outputs": [],
   "source": [
    "import pandas as pd\n",
    "import numpy as np\n",
    "from numpy import where\n",
    "import matplotlib.pyplot as plt\n",
    "\n",
    "import sklearn as sk\n",
    "from sklearn.linear_model import LogisticRegression\n",
    "from sklearn import svm\n",
    "from sklearn.ensemble import RandomForestClassifier\n",
    "from sklearn.neural_network import MLPClassifier\n",
    "from sklearn.model_selection import train_test_split\n",
    "\n",
    "from sklearn import metrics\n",
    "import seaborn as sns\n",
    "from sklearn.inspection import permutation_importance\n",
    "from sklearn.ensemble import GradientBoostingClassifier\n",
    "from sklearn.experimental import enable_iterative_imputer\n",
    "from sklearn.impute import IterativeImputer\n",
    "from sklearn import tree\n",
    "from sklearn.model_selection import RepeatedStratifiedKFold\n",
    "from sklearn.model_selection import cross_val_score\n",
    "from sklearn.neighbors import KNeighborsClassifier\n",
    "from sklearn.naive_bayes import GaussianNB\n",
    "\n",
    "from collections import Counter\n",
    "import xgboost as xgb\n",
    "from xgboost import XGBClassifier\n",
    "from lightgbm import LGBMClassifier\n",
    "from catboost import CatBoostClassifier\n",
    "from sklearn.impute import SimpleImputer\n",
    "from sklearn.impute import KNNImputer\n",
    "\n",
    "from functions import make_models, compare_models"
   ]
  },
  {
   "cell_type": "markdown",
   "id": "aff8c321",
   "metadata": {},
   "source": [
    "# Importing features"
   ]
  },
  {
   "cell_type": "code",
   "execution_count": 2,
   "id": "c0d20799",
   "metadata": {},
   "outputs": [],
   "source": [
    "with open(\"features.txt\") as f:\n",
    "    features = f.readlines()\n",
    "    features = [f.replace('\\n', '') for f in features]"
   ]
  },
  {
   "cell_type": "code",
   "execution_count": 3,
   "id": "44935a5c",
   "metadata": {
    "scrolled": false
   },
   "outputs": [],
   "source": [
    "feat_added = []\n",
    "final_feats = []\n",
    "\n",
    "for feat in features:\n",
    "    og_feat = feat.replace('_no_outliers', '')\n",
    "    if og_feat in feat_added:\n",
    "        pass\n",
    "    else:\n",
    "        final_feats.append(feat)\n",
    "        feat_added.append(og_feat)\n",
    "        \n",
    "textfile = open(\"features_final.txt\", \"w\")\n",
    "for element in final_feats:\n",
    "    textfile.write(element + \"\\n\")\n",
    "textfile.close()"
   ]
  },
  {
   "cell_type": "code",
   "execution_count": 4,
   "id": "124fc98b",
   "metadata": {
    "scrolled": true
   },
   "outputs": [
    {
     "data": {
      "text/plain": [
       "['previous_period_happiness_change',\n",
       " 'Year',\n",
       " 'mean_income_support_no_outliers',\n",
       " 'productivity',\n",
       " 'n_is_claimants',\n",
       " 'no_rainy_days_no_outliers',\n",
       " 'bankruptcy_pp_no_outliers',\n",
       " 'gp_access_no_outliers',\n",
       " 'road_casualties_no_outliers',\n",
       " 'unemployment',\n",
       " 'Village or smaller_no_outliers',\n",
       " 'house_sales_pp_no_outliers',\n",
       " 'inflation_no_outliers',\n",
       " 'childhood_tooth_decay_no_outliers',\n",
       " 'Core City_no_outliers',\n",
       " 'Large Town_no_outliers',\n",
       " 'income_support_rate_no_outliers',\n",
       " 'dental_access',\n",
       " 'bankruptcy',\n",
       " 'Small Town_no_outliers',\n",
       " 'gardens_perc',\n",
       " 'house_sales_no_outliers',\n",
       " 'crimes',\n",
       " 'Medium Town_no_outliers',\n",
       " 'processing_no_outliers',\n",
       " 'population_density',\n",
       " 'ofsted_no_outliers',\n",
       " 'infant_mortality',\n",
       " 'Other City_no_outliers',\n",
       " 'suicide_rates_no_outliers',\n",
       " 'population_no_outliers']"
      ]
     },
     "execution_count": 4,
     "metadata": {},
     "output_type": "execute_result"
    }
   ],
   "source": [
    "final_feats"
   ]
  },
  {
   "cell_type": "markdown",
   "id": "e9d2fd66",
   "metadata": {},
   "source": [
    "# Import data"
   ]
  },
  {
   "cell_type": "code",
   "execution_count": 5,
   "id": "a9cfdd9f",
   "metadata": {},
   "outputs": [],
   "source": [
    "X_test = pd.read_excel(f'../processed_data/outliers_removed/imputed/knn/x_test.xlsx')\n",
    "X_train = pd.read_excel(f'../processed_data/outliers_removed/imputed/knn/x_train.xlsx')\n",
    "y_train = pd.read_excel(f'../processed_data/outliers_removed/imputed/knn/y_train.xlsx')['mean_happiness_binary'].values\n",
    "y_test = pd.read_excel(f'../processed_data/outliers_removed/imputed/knn/y_test.xlsx')"
   ]
  },
  {
   "cell_type": "markdown",
   "id": "ac8e9f2d",
   "metadata": {},
   "source": [
    "# Wide ranging feature no tests"
   ]
  },
  {
   "cell_type": "code",
   "execution_count": 6,
   "id": "b58a5535",
   "metadata": {},
   "outputs": [],
   "source": [
    "model_names = ['Logistic Regression', 'SVM ovo', 'SVM linear', 'Random Forest', 'Neural Network','Decision Tree','Gradient Boost',\n",
    " 'ExtremeGradientBoost', 'K nearest neighbours','Light Gradient Boost','Cat Boost', 'Gaussian Native Bayes']"
   ]
  },
  {
   "cell_type": "code",
   "execution_count": 7,
   "id": "da1f47f3",
   "metadata": {
    "scrolled": false
   },
   "outputs": [
    {
     "name": "stdout",
     "output_type": "stream",
     "text": [
      "3\n"
     ]
    },
    {
     "name": "stderr",
     "output_type": "stream",
     "text": [
      "C:\\Users\\gv9\\Anaconda3\\envs\\uniwork\\lib\\site-packages\\sklearn\\neural_network\\_multilayer_perceptron.py:500: ConvergenceWarning: lbfgs failed to converge (status=1):\n",
      "STOP: TOTAL NO. of ITERATIONS REACHED LIMIT.\n",
      "\n",
      "Increase the number of iterations (max_iter) or scale the data as shown in:\n",
      "    https://scikit-learn.org/stable/modules/preprocessing.html\n",
      "  self.n_iter_ = _check_optimize_result(\"lbfgs\", opt_res, self.max_iter)\n"
     ]
    },
    {
     "name": "stdout",
     "output_type": "stream",
     "text": [
      "8\n"
     ]
    },
    {
     "name": "stderr",
     "output_type": "stream",
     "text": [
      "C:\\Users\\gv9\\Anaconda3\\envs\\uniwork\\lib\\site-packages\\sklearn\\neural_network\\_multilayer_perceptron.py:500: ConvergenceWarning: lbfgs failed to converge (status=1):\n",
      "STOP: TOTAL NO. of ITERATIONS REACHED LIMIT.\n",
      "\n",
      "Increase the number of iterations (max_iter) or scale the data as shown in:\n",
      "    https://scikit-learn.org/stable/modules/preprocessing.html\n",
      "  self.n_iter_ = _check_optimize_result(\"lbfgs\", opt_res, self.max_iter)\n"
     ]
    },
    {
     "name": "stdout",
     "output_type": "stream",
     "text": [
      "13\n"
     ]
    },
    {
     "name": "stderr",
     "output_type": "stream",
     "text": [
      "C:\\Users\\gv9\\Anaconda3\\envs\\uniwork\\lib\\site-packages\\sklearn\\neural_network\\_multilayer_perceptron.py:500: ConvergenceWarning: lbfgs failed to converge (status=1):\n",
      "STOP: TOTAL NO. of ITERATIONS REACHED LIMIT.\n",
      "\n",
      "Increase the number of iterations (max_iter) or scale the data as shown in:\n",
      "    https://scikit-learn.org/stable/modules/preprocessing.html\n",
      "  self.n_iter_ = _check_optimize_result(\"lbfgs\", opt_res, self.max_iter)\n"
     ]
    },
    {
     "name": "stdout",
     "output_type": "stream",
     "text": [
      "18\n"
     ]
    },
    {
     "name": "stderr",
     "output_type": "stream",
     "text": [
      "C:\\Users\\gv9\\Anaconda3\\envs\\uniwork\\lib\\site-packages\\sklearn\\neural_network\\_multilayer_perceptron.py:500: ConvergenceWarning: lbfgs failed to converge (status=1):\n",
      "STOP: TOTAL NO. of ITERATIONS REACHED LIMIT.\n",
      "\n",
      "Increase the number of iterations (max_iter) or scale the data as shown in:\n",
      "    https://scikit-learn.org/stable/modules/preprocessing.html\n",
      "  self.n_iter_ = _check_optimize_result(\"lbfgs\", opt_res, self.max_iter)\n"
     ]
    },
    {
     "name": "stdout",
     "output_type": "stream",
     "text": [
      "23\n"
     ]
    },
    {
     "name": "stderr",
     "output_type": "stream",
     "text": [
      "C:\\Users\\gv9\\Anaconda3\\envs\\uniwork\\lib\\site-packages\\sklearn\\neural_network\\_multilayer_perceptron.py:500: ConvergenceWarning: lbfgs failed to converge (status=1):\n",
      "STOP: TOTAL NO. of ITERATIONS REACHED LIMIT.\n",
      "\n",
      "Increase the number of iterations (max_iter) or scale the data as shown in:\n",
      "    https://scikit-learn.org/stable/modules/preprocessing.html\n",
      "  self.n_iter_ = _check_optimize_result(\"lbfgs\", opt_res, self.max_iter)\n"
     ]
    },
    {
     "name": "stdout",
     "output_type": "stream",
     "text": [
      "28\n"
     ]
    },
    {
     "name": "stderr",
     "output_type": "stream",
     "text": [
      "C:\\Users\\gv9\\Anaconda3\\envs\\uniwork\\lib\\site-packages\\sklearn\\neural_network\\_multilayer_perceptron.py:500: ConvergenceWarning: lbfgs failed to converge (status=1):\n",
      "STOP: TOTAL NO. of ITERATIONS REACHED LIMIT.\n",
      "\n",
      "Increase the number of iterations (max_iter) or scale the data as shown in:\n",
      "    https://scikit-learn.org/stable/modules/preprocessing.html\n",
      "  self.n_iter_ = _check_optimize_result(\"lbfgs\", opt_res, self.max_iter)\n"
     ]
    },
    {
     "name": "stdout",
     "output_type": "stream",
     "text": [
      "33\n"
     ]
    },
    {
     "name": "stderr",
     "output_type": "stream",
     "text": [
      "C:\\Users\\gv9\\Anaconda3\\envs\\uniwork\\lib\\site-packages\\sklearn\\linear_model\\_logistic.py:763: ConvergenceWarning: lbfgs failed to converge (status=1):\n",
      "STOP: TOTAL NO. of ITERATIONS REACHED LIMIT.\n",
      "\n",
      "Increase the number of iterations (max_iter) or scale the data as shown in:\n",
      "    https://scikit-learn.org/stable/modules/preprocessing.html\n",
      "Please also refer to the documentation for alternative solver options:\n",
      "    https://scikit-learn.org/stable/modules/linear_model.html#logistic-regression\n",
      "  n_iter_i = _check_optimize_result(\n",
      "C:\\Users\\gv9\\Anaconda3\\envs\\uniwork\\lib\\site-packages\\sklearn\\neural_network\\_multilayer_perceptron.py:500: ConvergenceWarning: lbfgs failed to converge (status=1):\n",
      "STOP: TOTAL NO. of ITERATIONS REACHED LIMIT.\n",
      "\n",
      "Increase the number of iterations (max_iter) or scale the data as shown in:\n",
      "    https://scikit-learn.org/stable/modules/preprocessing.html\n",
      "  self.n_iter_ = _check_optimize_result(\"lbfgs\", opt_res, self.max_iter)\n"
     ]
    },
    {
     "data": {
      "text/html": [
       "<div>\n",
       "<style scoped>\n",
       "    .dataframe tbody tr th:only-of-type {\n",
       "        vertical-align: middle;\n",
       "    }\n",
       "\n",
       "    .dataframe tbody tr th {\n",
       "        vertical-align: top;\n",
       "    }\n",
       "\n",
       "    .dataframe thead th {\n",
       "        text-align: right;\n",
       "    }\n",
       "</style>\n",
       "<table border=\"1\" class=\"dataframe\">\n",
       "  <thead>\n",
       "    <tr style=\"text-align: right;\">\n",
       "      <th></th>\n",
       "      <th>3 features</th>\n",
       "      <th>8 features</th>\n",
       "      <th>13 features</th>\n",
       "      <th>18 features</th>\n",
       "      <th>23 features</th>\n",
       "      <th>28 features</th>\n",
       "      <th>33 features</th>\n",
       "    </tr>\n",
       "  </thead>\n",
       "  <tbody>\n",
       "    <tr>\n",
       "      <th>Logistic Regression</th>\n",
       "      <td>0.679</td>\n",
       "      <td>0.668</td>\n",
       "      <td>0.665</td>\n",
       "      <td>0.668</td>\n",
       "      <td>0.665</td>\n",
       "      <td>0.676</td>\n",
       "      <td>0.676</td>\n",
       "    </tr>\n",
       "    <tr>\n",
       "      <th>SVM ovo</th>\n",
       "      <td>0.627</td>\n",
       "      <td>0.627</td>\n",
       "      <td>0.609</td>\n",
       "      <td>0.630</td>\n",
       "      <td>0.650</td>\n",
       "      <td>0.644</td>\n",
       "      <td>0.641</td>\n",
       "    </tr>\n",
       "    <tr>\n",
       "      <th>SVM linear</th>\n",
       "      <td>0.673</td>\n",
       "      <td>0.659</td>\n",
       "      <td>0.659</td>\n",
       "      <td>0.656</td>\n",
       "      <td>0.673</td>\n",
       "      <td>0.668</td>\n",
       "      <td>0.676</td>\n",
       "    </tr>\n",
       "    <tr>\n",
       "      <th>Random Forest</th>\n",
       "      <td>0.650</td>\n",
       "      <td>0.627</td>\n",
       "      <td>0.633</td>\n",
       "      <td>0.653</td>\n",
       "      <td>0.671</td>\n",
       "      <td>0.647</td>\n",
       "      <td>0.650</td>\n",
       "    </tr>\n",
       "    <tr>\n",
       "      <th>Neural Network</th>\n",
       "      <td>0.615</td>\n",
       "      <td>0.624</td>\n",
       "      <td>0.612</td>\n",
       "      <td>0.644</td>\n",
       "      <td>0.621</td>\n",
       "      <td>0.633</td>\n",
       "      <td>0.650</td>\n",
       "    </tr>\n",
       "    <tr>\n",
       "      <th>Decision Tree</th>\n",
       "      <td>0.612</td>\n",
       "      <td>0.586</td>\n",
       "      <td>0.609</td>\n",
       "      <td>0.612</td>\n",
       "      <td>0.633</td>\n",
       "      <td>0.621</td>\n",
       "      <td>0.636</td>\n",
       "    </tr>\n",
       "    <tr>\n",
       "      <th>Gradient Boost</th>\n",
       "      <td>0.627</td>\n",
       "      <td>0.598</td>\n",
       "      <td>0.621</td>\n",
       "      <td>0.665</td>\n",
       "      <td>0.673</td>\n",
       "      <td>0.636</td>\n",
       "      <td>0.665</td>\n",
       "    </tr>\n",
       "    <tr>\n",
       "      <th>ExtremeGradientBoost</th>\n",
       "      <td>0.612</td>\n",
       "      <td>0.636</td>\n",
       "      <td>0.641</td>\n",
       "      <td>0.650</td>\n",
       "      <td>0.638</td>\n",
       "      <td>0.659</td>\n",
       "      <td>0.624</td>\n",
       "    </tr>\n",
       "    <tr>\n",
       "      <th>K nearest neighbours</th>\n",
       "      <td>0.650</td>\n",
       "      <td>0.636</td>\n",
       "      <td>0.606</td>\n",
       "      <td>0.609</td>\n",
       "      <td>0.612</td>\n",
       "      <td>0.603</td>\n",
       "      <td>0.601</td>\n",
       "    </tr>\n",
       "    <tr>\n",
       "      <th>Light Gradient Boost</th>\n",
       "      <td>0.601</td>\n",
       "      <td>0.624</td>\n",
       "      <td>0.644</td>\n",
       "      <td>0.647</td>\n",
       "      <td>0.685</td>\n",
       "      <td>0.636</td>\n",
       "      <td>0.636</td>\n",
       "    </tr>\n",
       "    <tr>\n",
       "      <th>Cat Boost</th>\n",
       "      <td>0.653</td>\n",
       "      <td>0.633</td>\n",
       "      <td>0.636</td>\n",
       "      <td>0.644</td>\n",
       "      <td>0.647</td>\n",
       "      <td>0.659</td>\n",
       "      <td>0.636</td>\n",
       "    </tr>\n",
       "    <tr>\n",
       "      <th>Gaussian Native Bayes</th>\n",
       "      <td>0.650</td>\n",
       "      <td>0.647</td>\n",
       "      <td>0.630</td>\n",
       "      <td>0.624</td>\n",
       "      <td>0.609</td>\n",
       "      <td>0.606</td>\n",
       "      <td>0.598</td>\n",
       "    </tr>\n",
       "  </tbody>\n",
       "</table>\n",
       "</div>"
      ],
      "text/plain": [
       "                       3 features  8 features  13 features  18 features  \\\n",
       "Logistic Regression         0.679       0.668        0.665        0.668   \n",
       "SVM ovo                     0.627       0.627        0.609        0.630   \n",
       "SVM linear                  0.673       0.659        0.659        0.656   \n",
       "Random Forest               0.650       0.627        0.633        0.653   \n",
       "Neural Network              0.615       0.624        0.612        0.644   \n",
       "Decision Tree               0.612       0.586        0.609        0.612   \n",
       "Gradient Boost              0.627       0.598        0.621        0.665   \n",
       "ExtremeGradientBoost        0.612       0.636        0.641        0.650   \n",
       "K nearest neighbours        0.650       0.636        0.606        0.609   \n",
       "Light Gradient Boost        0.601       0.624        0.644        0.647   \n",
       "Cat Boost                   0.653       0.633        0.636        0.644   \n",
       "Gaussian Native Bayes       0.650       0.647        0.630        0.624   \n",
       "\n",
       "                       23 features  28 features  33 features  \n",
       "Logistic Regression          0.665        0.676        0.676  \n",
       "SVM ovo                      0.650        0.644        0.641  \n",
       "SVM linear                   0.673        0.668        0.676  \n",
       "Random Forest                0.671        0.647        0.650  \n",
       "Neural Network               0.621        0.633        0.650  \n",
       "Decision Tree                0.633        0.621        0.636  \n",
       "Gradient Boost               0.673        0.636        0.665  \n",
       "ExtremeGradientBoost         0.638        0.659        0.624  \n",
       "K nearest neighbours         0.612        0.603        0.601  \n",
       "Light Gradient Boost         0.685        0.636        0.636  \n",
       "Cat Boost                    0.647        0.659        0.636  \n",
       "Gaussian Native Bayes        0.609        0.606        0.598  "
      ]
     },
     "execution_count": 7,
     "metadata": {},
     "output_type": "execute_result"
    }
   ],
   "source": [
    "comparison_df = pd.DataFrame(index=model_names)\n",
    "\n",
    "for i in range(3, 35, 5):\n",
    "    print(i)\n",
    "    X_test_filtered = X_test[final_feats[:i]]\n",
    "    X_train_filtered = X_train[final_feats[:i]]\n",
    "\n",
    "    all_models = make_models(X_train_filtered, y_train)\n",
    "\n",
    "    models_df = compare_models(all_models, X_train_filtered, y_train, X_test_filtered, y_test)\n",
    "    comparison_df[f'{i} features'] = models_df.set_index('Name')['Accuracy']\n",
    "    \n",
    "comparison_df"
   ]
  },
  {
   "cell_type": "markdown",
   "id": "147c400c",
   "metadata": {},
   "source": [
    "# Smaller ranging feature number tests"
   ]
  },
  {
   "cell_type": "code",
   "execution_count": 8,
   "id": "c6f7e413",
   "metadata": {
    "scrolled": true
   },
   "outputs": [
    {
     "name": "stdout",
     "output_type": "stream",
     "text": [
      "1\n"
     ]
    },
    {
     "name": "stderr",
     "output_type": "stream",
     "text": [
      "C:\\Users\\gv9\\Anaconda3\\envs\\uniwork\\lib\\site-packages\\sklearn\\neural_network\\_multilayer_perceptron.py:500: ConvergenceWarning: lbfgs failed to converge (status=1):\n",
      "STOP: TOTAL NO. of ITERATIONS REACHED LIMIT.\n",
      "\n",
      "Increase the number of iterations (max_iter) or scale the data as shown in:\n",
      "    https://scikit-learn.org/stable/modules/preprocessing.html\n",
      "  self.n_iter_ = _check_optimize_result(\"lbfgs\", opt_res, self.max_iter)\n"
     ]
    },
    {
     "name": "stdout",
     "output_type": "stream",
     "text": [
      "2\n"
     ]
    },
    {
     "name": "stderr",
     "output_type": "stream",
     "text": [
      "C:\\Users\\gv9\\Anaconda3\\envs\\uniwork\\lib\\site-packages\\sklearn\\neural_network\\_multilayer_perceptron.py:500: ConvergenceWarning: lbfgs failed to converge (status=1):\n",
      "STOP: TOTAL NO. of ITERATIONS REACHED LIMIT.\n",
      "\n",
      "Increase the number of iterations (max_iter) or scale the data as shown in:\n",
      "    https://scikit-learn.org/stable/modules/preprocessing.html\n",
      "  self.n_iter_ = _check_optimize_result(\"lbfgs\", opt_res, self.max_iter)\n"
     ]
    },
    {
     "name": "stdout",
     "output_type": "stream",
     "text": [
      "3\n"
     ]
    },
    {
     "name": "stderr",
     "output_type": "stream",
     "text": [
      "C:\\Users\\gv9\\Anaconda3\\envs\\uniwork\\lib\\site-packages\\sklearn\\neural_network\\_multilayer_perceptron.py:500: ConvergenceWarning: lbfgs failed to converge (status=1):\n",
      "STOP: TOTAL NO. of ITERATIONS REACHED LIMIT.\n",
      "\n",
      "Increase the number of iterations (max_iter) or scale the data as shown in:\n",
      "    https://scikit-learn.org/stable/modules/preprocessing.html\n",
      "  self.n_iter_ = _check_optimize_result(\"lbfgs\", opt_res, self.max_iter)\n"
     ]
    },
    {
     "name": "stdout",
     "output_type": "stream",
     "text": [
      "4\n"
     ]
    },
    {
     "name": "stderr",
     "output_type": "stream",
     "text": [
      "C:\\Users\\gv9\\Anaconda3\\envs\\uniwork\\lib\\site-packages\\sklearn\\neural_network\\_multilayer_perceptron.py:500: ConvergenceWarning: lbfgs failed to converge (status=1):\n",
      "STOP: TOTAL NO. of ITERATIONS REACHED LIMIT.\n",
      "\n",
      "Increase the number of iterations (max_iter) or scale the data as shown in:\n",
      "    https://scikit-learn.org/stable/modules/preprocessing.html\n",
      "  self.n_iter_ = _check_optimize_result(\"lbfgs\", opt_res, self.max_iter)\n"
     ]
    },
    {
     "name": "stdout",
     "output_type": "stream",
     "text": [
      "5\n"
     ]
    },
    {
     "name": "stderr",
     "output_type": "stream",
     "text": [
      "C:\\Users\\gv9\\Anaconda3\\envs\\uniwork\\lib\\site-packages\\sklearn\\neural_network\\_multilayer_perceptron.py:500: ConvergenceWarning: lbfgs failed to converge (status=1):\n",
      "STOP: TOTAL NO. of ITERATIONS REACHED LIMIT.\n",
      "\n",
      "Increase the number of iterations (max_iter) or scale the data as shown in:\n",
      "    https://scikit-learn.org/stable/modules/preprocessing.html\n",
      "  self.n_iter_ = _check_optimize_result(\"lbfgs\", opt_res, self.max_iter)\n"
     ]
    },
    {
     "name": "stdout",
     "output_type": "stream",
     "text": [
      "6\n"
     ]
    },
    {
     "name": "stderr",
     "output_type": "stream",
     "text": [
      "C:\\Users\\gv9\\Anaconda3\\envs\\uniwork\\lib\\site-packages\\sklearn\\neural_network\\_multilayer_perceptron.py:500: ConvergenceWarning: lbfgs failed to converge (status=1):\n",
      "STOP: TOTAL NO. of ITERATIONS REACHED LIMIT.\n",
      "\n",
      "Increase the number of iterations (max_iter) or scale the data as shown in:\n",
      "    https://scikit-learn.org/stable/modules/preprocessing.html\n",
      "  self.n_iter_ = _check_optimize_result(\"lbfgs\", opt_res, self.max_iter)\n"
     ]
    },
    {
     "name": "stdout",
     "output_type": "stream",
     "text": [
      "7\n"
     ]
    },
    {
     "name": "stderr",
     "output_type": "stream",
     "text": [
      "C:\\Users\\gv9\\Anaconda3\\envs\\uniwork\\lib\\site-packages\\sklearn\\neural_network\\_multilayer_perceptron.py:500: ConvergenceWarning: lbfgs failed to converge (status=1):\n",
      "STOP: TOTAL NO. of ITERATIONS REACHED LIMIT.\n",
      "\n",
      "Increase the number of iterations (max_iter) or scale the data as shown in:\n",
      "    https://scikit-learn.org/stable/modules/preprocessing.html\n",
      "  self.n_iter_ = _check_optimize_result(\"lbfgs\", opt_res, self.max_iter)\n"
     ]
    },
    {
     "name": "stdout",
     "output_type": "stream",
     "text": [
      "8\n"
     ]
    },
    {
     "name": "stderr",
     "output_type": "stream",
     "text": [
      "C:\\Users\\gv9\\Anaconda3\\envs\\uniwork\\lib\\site-packages\\sklearn\\neural_network\\_multilayer_perceptron.py:500: ConvergenceWarning: lbfgs failed to converge (status=1):\n",
      "STOP: TOTAL NO. of ITERATIONS REACHED LIMIT.\n",
      "\n",
      "Increase the number of iterations (max_iter) or scale the data as shown in:\n",
      "    https://scikit-learn.org/stable/modules/preprocessing.html\n",
      "  self.n_iter_ = _check_optimize_result(\"lbfgs\", opt_res, self.max_iter)\n"
     ]
    },
    {
     "name": "stdout",
     "output_type": "stream",
     "text": [
      "9\n"
     ]
    },
    {
     "name": "stderr",
     "output_type": "stream",
     "text": [
      "C:\\Users\\gv9\\Anaconda3\\envs\\uniwork\\lib\\site-packages\\sklearn\\neural_network\\_multilayer_perceptron.py:500: ConvergenceWarning: lbfgs failed to converge (status=1):\n",
      "STOP: TOTAL NO. of ITERATIONS REACHED LIMIT.\n",
      "\n",
      "Increase the number of iterations (max_iter) or scale the data as shown in:\n",
      "    https://scikit-learn.org/stable/modules/preprocessing.html\n",
      "  self.n_iter_ = _check_optimize_result(\"lbfgs\", opt_res, self.max_iter)\n"
     ]
    },
    {
     "name": "stdout",
     "output_type": "stream",
     "text": [
      "10\n"
     ]
    },
    {
     "name": "stderr",
     "output_type": "stream",
     "text": [
      "C:\\Users\\gv9\\Anaconda3\\envs\\uniwork\\lib\\site-packages\\sklearn\\neural_network\\_multilayer_perceptron.py:500: ConvergenceWarning: lbfgs failed to converge (status=1):\n",
      "STOP: TOTAL NO. of ITERATIONS REACHED LIMIT.\n",
      "\n",
      "Increase the number of iterations (max_iter) or scale the data as shown in:\n",
      "    https://scikit-learn.org/stable/modules/preprocessing.html\n",
      "  self.n_iter_ = _check_optimize_result(\"lbfgs\", opt_res, self.max_iter)\n"
     ]
    },
    {
     "data": {
      "text/html": [
       "<div>\n",
       "<style scoped>\n",
       "    .dataframe tbody tr th:only-of-type {\n",
       "        vertical-align: middle;\n",
       "    }\n",
       "\n",
       "    .dataframe tbody tr th {\n",
       "        vertical-align: top;\n",
       "    }\n",
       "\n",
       "    .dataframe thead th {\n",
       "        text-align: right;\n",
       "    }\n",
       "</style>\n",
       "<table border=\"1\" class=\"dataframe\">\n",
       "  <thead>\n",
       "    <tr style=\"text-align: right;\">\n",
       "      <th></th>\n",
       "      <th>1 features</th>\n",
       "      <th>2 features</th>\n",
       "      <th>3 features</th>\n",
       "      <th>4 features</th>\n",
       "      <th>5 features</th>\n",
       "      <th>6 features</th>\n",
       "      <th>7 features</th>\n",
       "      <th>8 features</th>\n",
       "      <th>9 features</th>\n",
       "      <th>10 features</th>\n",
       "    </tr>\n",
       "  </thead>\n",
       "  <tbody>\n",
       "    <tr>\n",
       "      <th>Logistic Regression</th>\n",
       "      <td>0.612</td>\n",
       "      <td>0.668</td>\n",
       "      <td>0.679</td>\n",
       "      <td>0.676</td>\n",
       "      <td>0.682</td>\n",
       "      <td>0.665</td>\n",
       "      <td>0.668</td>\n",
       "      <td>0.668</td>\n",
       "      <td>0.665</td>\n",
       "      <td>0.659</td>\n",
       "    </tr>\n",
       "    <tr>\n",
       "      <th>SVM ovo</th>\n",
       "      <td>0.606</td>\n",
       "      <td>0.621</td>\n",
       "      <td>0.627</td>\n",
       "      <td>0.624</td>\n",
       "      <td>0.606</td>\n",
       "      <td>0.624</td>\n",
       "      <td>0.621</td>\n",
       "      <td>0.627</td>\n",
       "      <td>0.627</td>\n",
       "      <td>0.630</td>\n",
       "    </tr>\n",
       "    <tr>\n",
       "      <th>SVM linear</th>\n",
       "      <td>0.606</td>\n",
       "      <td>0.653</td>\n",
       "      <td>0.673</td>\n",
       "      <td>0.673</td>\n",
       "      <td>0.668</td>\n",
       "      <td>0.659</td>\n",
       "      <td>0.656</td>\n",
       "      <td>0.659</td>\n",
       "      <td>0.659</td>\n",
       "      <td>0.653</td>\n",
       "    </tr>\n",
       "    <tr>\n",
       "      <th>Random Forest</th>\n",
       "      <td>0.592</td>\n",
       "      <td>0.624</td>\n",
       "      <td>0.641</td>\n",
       "      <td>0.636</td>\n",
       "      <td>0.618</td>\n",
       "      <td>0.638</td>\n",
       "      <td>0.624</td>\n",
       "      <td>0.633</td>\n",
       "      <td>0.636</td>\n",
       "      <td>0.650</td>\n",
       "    </tr>\n",
       "    <tr>\n",
       "      <th>Neural Network</th>\n",
       "      <td>0.612</td>\n",
       "      <td>0.609</td>\n",
       "      <td>0.647</td>\n",
       "      <td>0.627</td>\n",
       "      <td>0.630</td>\n",
       "      <td>0.627</td>\n",
       "      <td>0.615</td>\n",
       "      <td>0.618</td>\n",
       "      <td>0.624</td>\n",
       "      <td>0.609</td>\n",
       "    </tr>\n",
       "    <tr>\n",
       "      <th>Decision Tree</th>\n",
       "      <td>0.577</td>\n",
       "      <td>0.603</td>\n",
       "      <td>0.601</td>\n",
       "      <td>0.574</td>\n",
       "      <td>0.571</td>\n",
       "      <td>0.560</td>\n",
       "      <td>0.577</td>\n",
       "      <td>0.571</td>\n",
       "      <td>0.583</td>\n",
       "      <td>0.586</td>\n",
       "    </tr>\n",
       "    <tr>\n",
       "      <th>Gradient Boost</th>\n",
       "      <td>0.574</td>\n",
       "      <td>0.580</td>\n",
       "      <td>0.630</td>\n",
       "      <td>0.606</td>\n",
       "      <td>0.618</td>\n",
       "      <td>0.653</td>\n",
       "      <td>0.636</td>\n",
       "      <td>0.606</td>\n",
       "      <td>0.612</td>\n",
       "      <td>0.659</td>\n",
       "    </tr>\n",
       "    <tr>\n",
       "      <th>ExtremeGradientBoost</th>\n",
       "      <td>0.595</td>\n",
       "      <td>0.603</td>\n",
       "      <td>0.612</td>\n",
       "      <td>0.603</td>\n",
       "      <td>0.606</td>\n",
       "      <td>0.621</td>\n",
       "      <td>0.580</td>\n",
       "      <td>0.636</td>\n",
       "      <td>0.624</td>\n",
       "      <td>0.615</td>\n",
       "    </tr>\n",
       "    <tr>\n",
       "      <th>K nearest neighbours</th>\n",
       "      <td>0.606</td>\n",
       "      <td>0.612</td>\n",
       "      <td>0.650</td>\n",
       "      <td>0.638</td>\n",
       "      <td>0.641</td>\n",
       "      <td>0.647</td>\n",
       "      <td>0.647</td>\n",
       "      <td>0.636</td>\n",
       "      <td>0.636</td>\n",
       "      <td>0.630</td>\n",
       "    </tr>\n",
       "    <tr>\n",
       "      <th>Light Gradient Boost</th>\n",
       "      <td>0.577</td>\n",
       "      <td>0.601</td>\n",
       "      <td>0.601</td>\n",
       "      <td>0.595</td>\n",
       "      <td>0.601</td>\n",
       "      <td>0.606</td>\n",
       "      <td>0.633</td>\n",
       "      <td>0.624</td>\n",
       "      <td>0.612</td>\n",
       "      <td>0.636</td>\n",
       "    </tr>\n",
       "    <tr>\n",
       "      <th>Cat Boost</th>\n",
       "      <td>0.612</td>\n",
       "      <td>0.636</td>\n",
       "      <td>0.653</td>\n",
       "      <td>0.618</td>\n",
       "      <td>0.624</td>\n",
       "      <td>0.630</td>\n",
       "      <td>0.618</td>\n",
       "      <td>0.633</td>\n",
       "      <td>0.633</td>\n",
       "      <td>0.650</td>\n",
       "    </tr>\n",
       "    <tr>\n",
       "      <th>Gaussian Native Bayes</th>\n",
       "      <td>0.601</td>\n",
       "      <td>0.676</td>\n",
       "      <td>0.650</td>\n",
       "      <td>0.653</td>\n",
       "      <td>0.633</td>\n",
       "      <td>0.627</td>\n",
       "      <td>0.641</td>\n",
       "      <td>0.647</td>\n",
       "      <td>0.633</td>\n",
       "      <td>0.630</td>\n",
       "    </tr>\n",
       "  </tbody>\n",
       "</table>\n",
       "</div>"
      ],
      "text/plain": [
       "                       1 features  2 features  3 features  4 features  \\\n",
       "Logistic Regression         0.612       0.668       0.679       0.676   \n",
       "SVM ovo                     0.606       0.621       0.627       0.624   \n",
       "SVM linear                  0.606       0.653       0.673       0.673   \n",
       "Random Forest               0.592       0.624       0.641       0.636   \n",
       "Neural Network              0.612       0.609       0.647       0.627   \n",
       "Decision Tree               0.577       0.603       0.601       0.574   \n",
       "Gradient Boost              0.574       0.580       0.630       0.606   \n",
       "ExtremeGradientBoost        0.595       0.603       0.612       0.603   \n",
       "K nearest neighbours        0.606       0.612       0.650       0.638   \n",
       "Light Gradient Boost        0.577       0.601       0.601       0.595   \n",
       "Cat Boost                   0.612       0.636       0.653       0.618   \n",
       "Gaussian Native Bayes       0.601       0.676       0.650       0.653   \n",
       "\n",
       "                       5 features  6 features  7 features  8 features  \\\n",
       "Logistic Regression         0.682       0.665       0.668       0.668   \n",
       "SVM ovo                     0.606       0.624       0.621       0.627   \n",
       "SVM linear                  0.668       0.659       0.656       0.659   \n",
       "Random Forest               0.618       0.638       0.624       0.633   \n",
       "Neural Network              0.630       0.627       0.615       0.618   \n",
       "Decision Tree               0.571       0.560       0.577       0.571   \n",
       "Gradient Boost              0.618       0.653       0.636       0.606   \n",
       "ExtremeGradientBoost        0.606       0.621       0.580       0.636   \n",
       "K nearest neighbours        0.641       0.647       0.647       0.636   \n",
       "Light Gradient Boost        0.601       0.606       0.633       0.624   \n",
       "Cat Boost                   0.624       0.630       0.618       0.633   \n",
       "Gaussian Native Bayes       0.633       0.627       0.641       0.647   \n",
       "\n",
       "                       9 features  10 features  \n",
       "Logistic Regression         0.665        0.659  \n",
       "SVM ovo                     0.627        0.630  \n",
       "SVM linear                  0.659        0.653  \n",
       "Random Forest               0.636        0.650  \n",
       "Neural Network              0.624        0.609  \n",
       "Decision Tree               0.583        0.586  \n",
       "Gradient Boost              0.612        0.659  \n",
       "ExtremeGradientBoost        0.624        0.615  \n",
       "K nearest neighbours        0.636        0.630  \n",
       "Light Gradient Boost        0.612        0.636  \n",
       "Cat Boost                   0.633        0.650  \n",
       "Gaussian Native Bayes       0.633        0.630  "
      ]
     },
     "execution_count": 8,
     "metadata": {},
     "output_type": "execute_result"
    }
   ],
   "source": [
    "comparison_df = pd.DataFrame(index=model_names)\n",
    "\n",
    "for i in range(1, 11):\n",
    "    print(i)\n",
    "    X_test_filtered = X_test[final_feats[:i]]\n",
    "    X_train_filtered = X_train[final_feats[:i]]\n",
    "\n",
    "    all_models = make_models(X_train_filtered, y_train)\n",
    "\n",
    "    models_df = compare_models(all_models, X_train_filtered, y_train, X_test_filtered, y_test)\n",
    "    comparison_df[f'{i} features'] = models_df.set_index('Name')['Accuracy']\n",
    "    \n",
    "comparison_df"
   ]
  },
  {
   "cell_type": "code",
   "execution_count": 9,
   "id": "0746aa17",
   "metadata": {},
   "outputs": [
    {
     "ename": "SyntaxError",
     "evalue": "invalid syntax (<ipython-input-9-15eda2b8f110>, line 1)",
     "output_type": "error",
     "traceback": [
      "\u001b[1;36m  File \u001b[1;32m\"<ipython-input-9-15eda2b8f110>\"\u001b[1;36m, line \u001b[1;32m1\u001b[0m\n\u001b[1;33m    6 and 9 features are good\u001b[0m\n\u001b[1;37m            ^\u001b[0m\n\u001b[1;31mSyntaxError\u001b[0m\u001b[1;31m:\u001b[0m invalid syntax\n"
     ]
    }
   ],
   "source": [
    "6 and 9 features are good"
   ]
  }
 ],
 "metadata": {
  "hide_input": false,
  "kernelspec": {
   "display_name": "Python 3",
   "language": "python",
   "name": "python3"
  },
  "language_info": {
   "codemirror_mode": {
    "name": "ipython",
    "version": 3
   },
   "file_extension": ".py",
   "mimetype": "text/x-python",
   "name": "python",
   "nbconvert_exporter": "python",
   "pygments_lexer": "ipython3",
   "version": "3.8.8"
  },
  "toc": {
   "base_numbering": 1,
   "nav_menu": {},
   "number_sections": true,
   "sideBar": true,
   "skip_h1_title": false,
   "title_cell": "Table of Contents",
   "title_sidebar": "Contents",
   "toc_cell": false,
   "toc_position": {},
   "toc_section_display": true,
   "toc_window_display": false
  }
 },
 "nbformat": 4,
 "nbformat_minor": 5
}
