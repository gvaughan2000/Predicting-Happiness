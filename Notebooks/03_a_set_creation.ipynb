{
 "cells": [
  {
   "cell_type": "code",
   "execution_count": 23,
   "id": "378f9207",
   "metadata": {},
   "outputs": [],
   "source": [
    "import pandas as pd\n",
    "import numpy as np\n",
    "\n",
    "from sklearn.preprocessing import MinMaxScaler\n",
    "from sklearn.model_selection import train_test_split\n",
    "from sklearn.experimental import enable_iterative_imputer\n",
    "from sklearn.impute import IterativeImputer\n",
    "from sklearn.impute import SimpleImputer\n",
    "from sklearn.impute import KNNImputer\n",
    "\n",
    "import matplotlib.pyplot as plt\n",
    "import seaborn as sns"
   ]
  },
  {
   "cell_type": "markdown",
   "id": "d9308ca6",
   "metadata": {},
   "source": [
    "# Imports"
   ]
  },
  {
   "cell_type": "code",
   "execution_count": 24,
   "id": "f5dc32c9",
   "metadata": {},
   "outputs": [
    {
     "data": {
      "text/plain": [
       "(3429, 427)"
      ]
     },
     "execution_count": 24,
     "metadata": {},
     "output_type": "execute_result"
    }
   ],
   "source": [
    "df = pd.read_csv('../clustering_data.csv')\n",
    "df = df.drop(columns=['Area Code'])\n",
    "df = df.replace([np.inf, -np.inf], np.nan)\n",
    "targets = ['mean_happiness_3clusters', 'mean_happiness_binary', 'mean_happiness']\n",
    "\n",
    "df.shape"
   ]
  },
  {
   "cell_type": "code",
   "execution_count": 25,
   "id": "d4f915c3",
   "metadata": {
    "scrolled": false
   },
   "outputs": [
    {
     "data": {
      "text/plain": [
       "Index(['Year', 'mean_happiness', 'suicide_rates', 'crimes', 'population',\n",
       "       'population_density', 'unemployment', 'mean_income_support',\n",
       "       'n_is_claimants', 'house_sales', 'bankruptcy', 'processing',\n",
       "       'productivity', 'road_casualties', 'ofsted', 'infant_mortality',\n",
       "       'childhood_tooth_decay', 'gp_access', 'dental_access',\n",
       "       'mean_happiness_3clusters', 'mean_happiness_binary', 'Core City',\n",
       "       'Other City', 'Large Town', 'Medium Town', 'Small Town',\n",
       "       'Village or smaller', 'gardens_perc', 'income_support_rate',\n",
       "       'house_sales_pp', 'bankruptcy_pp', 'no_rainy_days', 'inflation',\n",
       "       'previous_period_happiness_change'],\n",
       "      dtype='object')"
      ]
     },
     "execution_count": 25,
     "metadata": {},
     "output_type": "execute_result"
    }
   ],
   "source": [
    "code_cols = [col for col in df if col.startswith('Code')]\n",
    "df.drop(columns=code_cols, inplace=True)\n",
    "\n",
    "region_cols = [col for col in df if col.startswith('region')]\n",
    "df.drop(columns=region_cols, inplace=True)\n",
    "\n",
    "df = df.astype(float)\n",
    "\n",
    "columns = df.columns[~df.columns.isin(targets)]\n",
    "\n",
    "df.columns"
   ]
  },
  {
   "cell_type": "markdown",
   "id": "6f859a2e",
   "metadata": {},
   "source": [
    "# Normalise"
   ]
  },
  {
   "cell_type": "code",
   "execution_count": 31,
   "id": "8010b741",
   "metadata": {
    "scrolled": false
   },
   "outputs": [
    {
     "name": "stderr",
     "output_type": "stream",
     "text": [
      "C:\\Users\\gv9\\Anaconda3\\envs\\uniwork\\lib\\site-packages\\seaborn\\_decorators.py:36: FutureWarning: Pass the following variable as a keyword arg: x. From version 0.12, the only valid positional argument will be `data`, and passing other arguments without an explicit keyword will result in an error or misinterpretation.\n",
      "  warnings.warn(\n",
      "C:\\Users\\gv9\\Anaconda3\\envs\\uniwork\\lib\\site-packages\\seaborn\\_decorators.py:36: FutureWarning: Pass the following variable as a keyword arg: x. From version 0.12, the only valid positional argument will be `data`, and passing other arguments without an explicit keyword will result in an error or misinterpretation.\n",
      "  warnings.warn(\n",
      "C:\\Users\\gv9\\Anaconda3\\envs\\uniwork\\lib\\site-packages\\seaborn\\_decorators.py:36: FutureWarning: Pass the following variable as a keyword arg: x. From version 0.12, the only valid positional argument will be `data`, and passing other arguments without an explicit keyword will result in an error or misinterpretation.\n",
      "  warnings.warn(\n",
      "No handles with labels found to put in legend.\n"
     ]
    },
    {
     "data": {
      "image/png": "[encoded data removed]",
      "text/plain": [
       "<Figure size 432x288 with 1 Axes>"
      ]
     },
     "metadata": {
      "needs_background": "light"
     },
     "output_type": "display_data"
    }
   ],
   "source": [
    "for column in df[['suicide_rates', \n",
    "       'population_density',  'ofsted']].columns:          \n",
    "    sns.boxplot(df[column])\n",
    "    \n",
    "plt.legend()\n",
    "plt.show()"
   ]
  },
  {
   "cell_type": "code",
   "execution_count": 27,
   "id": "c21387ce",
   "metadata": {},
   "outputs": [],
   "source": [
    "df = df.copy()\n",
    "min_max_scaler = MinMaxScaler()\n",
    "df[columns] = min_max_scaler.fit_transform(df[columns])"
   ]
  },
  {
   "cell_type": "code",
   "execution_count": 29,
   "id": "f4fbbc6d",
   "metadata": {},
   "outputs": [
    {
     "ename": "AttributeError",
     "evalue": "module 'seaborn' has no attribute 'scatter'",
     "output_type": "error",
     "traceback": [
      "\u001b[1;31m---------------------------------------------------------------------------\u001b[0m",
      "\u001b[1;31mAttributeError\u001b[0m                            Traceback (most recent call last)",
      "\u001b[1;32m<ipython-input-29-1d044af60b7f>\u001b[0m in \u001b[0;36m<module>\u001b[1;34m\u001b[0m\n\u001b[0;32m      1\u001b[0m \u001b[1;32mfor\u001b[0m \u001b[0mcolumn\u001b[0m \u001b[1;32min\u001b[0m \u001b[0mdf\u001b[0m\u001b[1;33m[\u001b[0m\u001b[1;33m[\u001b[0m\u001b[1;34m'ofsted'\u001b[0m\u001b[1;33m,\u001b[0m \u001b[1;34m'population_density'\u001b[0m\u001b[1;33m,\u001b[0m \u001b[1;34m'suicide_rates'\u001b[0m\u001b[1;33m]\u001b[0m\u001b[1;33m]\u001b[0m\u001b[1;33m.\u001b[0m\u001b[0mcolumns\u001b[0m\u001b[1;33m:\u001b[0m\u001b[1;33m\u001b[0m\u001b[1;33m\u001b[0m\u001b[0m\n\u001b[1;32m----> 2\u001b[1;33m     \u001b[0msns\u001b[0m\u001b[1;33m.\u001b[0m\u001b[0mscatter\u001b[0m\u001b[1;33m(\u001b[0m\u001b[0mdf\u001b[0m\u001b[1;33m[\u001b[0m\u001b[0mcolumn\u001b[0m\u001b[1;33m]\u001b[0m\u001b[1;33m,\u001b[0m \u001b[0mlabel\u001b[0m\u001b[1;33m=\u001b[0m\u001b[0mcolumn\u001b[0m\u001b[1;33m)\u001b[0m\u001b[1;33m\u001b[0m\u001b[1;33m\u001b[0m\u001b[0m\n\u001b[0m\u001b[0;32m      3\u001b[0m \u001b[1;33m\u001b[0m\u001b[0m\n\u001b[0;32m      4\u001b[0m \u001b[0mplt\u001b[0m\u001b[1;33m.\u001b[0m\u001b[0mlegend\u001b[0m\u001b[1;33m(\u001b[0m\u001b[1;33m)\u001b[0m\u001b[1;33m\u001b[0m\u001b[1;33m\u001b[0m\u001b[0m\n\u001b[0;32m      5\u001b[0m \u001b[0mplt\u001b[0m\u001b[1;33m.\u001b[0m\u001b[0mshow\u001b[0m\u001b[1;33m(\u001b[0m\u001b[1;33m)\u001b[0m\u001b[1;33m\u001b[0m\u001b[1;33m\u001b[0m\u001b[0m\n",
      "\u001b[1;31mAttributeError\u001b[0m: module 'seaborn' has no attribute 'scatter'"
     ]
    }
   ],
   "source": [
    "for column in df[['ofsted', 'population_density', 'suicide_rates']].columns:          \n",
    "    sns.scatter(df[column], label=column)\n",
    "    \n",
    "plt.legend()\n",
    "plt.show()"
   ]
  },
  {
   "cell_type": "markdown",
   "id": "c0d28eda",
   "metadata": {},
   "source": [
    "# Export with Nans"
   ]
  },
  {
   "cell_type": "code",
   "execution_count": 15,
   "id": "10882686",
   "metadata": {},
   "outputs": [
    {
     "name": "stdout",
     "output_type": "stream",
     "text": [
      "(3429, 34)\n",
      "2743\n",
      "2743\n"
     ]
    }
   ],
   "source": [
    "print(df.shape)\n",
    "\n",
    "y = df['mean_happiness_binary']\n",
    "X = df[columns]\n",
    "\n",
    "#Splitting into train test validate, 80 : 10 : 10\n",
    "X_train, X_remaining, y_train, y_remaining = train_test_split(X,y, train_size=0.8, random_state=42)\n",
    "X_valid, X_test, y_valid, y_test = train_test_split(X_remaining, y_remaining, test_size=0.5, random_state=42)\n",
    "\n",
    "print(len(X_train))\n",
    "print(len(y_train))\n",
    "\n",
    "X_train.to_csv('../processed_data/with_nans/x_train.csv', index=False)\n",
    "y_train.to_csv('../processed_data/with_nans/y_train.csv', index=False)\n",
    "\n",
    "X_test.to_csv('../processed_data/with_nans/X_test.csv', index=False)\n",
    "y_test.to_csv('../processed_data/with_nans/y_test.csv', index=False)\n",
    "\n",
    "X_valid.to_csv('../processed_data/with_nans/X_valid.csv', index=False)\n",
    "y_valid.to_csv('../processed_data/with_nans/y_valid.csv', index=False)"
   ]
  },
  {
   "cell_type": "markdown",
   "id": "fdaddf77",
   "metadata": {},
   "source": [
    "# Imputation"
   ]
  },
  {
   "cell_type": "code",
   "execution_count": 23,
   "id": "8e151d5d",
   "metadata": {
    "scrolled": false
   },
   "outputs": [],
   "source": [
    "for method in ['most_frequent', 'mean', 'median']:\n",
    "    \n",
    "    #imputing training data\n",
    "    imputed_train = SimpleImputer(strategy=method).fit_transform(X_train)\n",
    "    x_train_imputed = pd.DataFrame(imputed_train, columns=X_train.columns)\n",
    "    \n",
    "    #imputing testing data\n",
    "    X_full = X_test.append(X_train)\n",
    "    imputed_full = SimpleImputer(strategy=method).fit_transform(X_full)\n",
    "    x_full_imputed = pd.DataFrame(imputed_full, columns=X_test.columns)\n",
    "    x_test_imputed = x_full_imputed[:len(X_test)]\n",
    "    \n",
    "    x_test_imputed.to_excel(f'../processed_data/imputed/{method}/x_test.xlsx', index=False)\n",
    "    x_train_imputed.to_excel(f'../processed_data/imputed/{method}/x_train.xlsx', index=False)\n",
    "    pd.Series(y_train).to_excel(f'../processed_data/imputed/{method}/y_train.xlsx', index=False)\n",
    "    pd.Series(y_test).to_excel(f'../processed_data/imputed/{method}/y_test.xlsx', index=False)"
   ]
  },
  {
   "cell_type": "markdown",
   "id": "b8f548a2",
   "metadata": {},
   "source": [
    "# KNN"
   ]
  },
  {
   "cell_type": "code",
   "execution_count": 17,
   "id": "e952096f",
   "metadata": {},
   "outputs": [],
   "source": [
    "import xgboost as xgb\n",
    "from xgboost import XGBClassifier\n",
    "\n",
    "imputer = KNNImputer(n_neighbors=50, weights='distance')\n",
    "\n",
    "# imputing training\n",
    "imputer.fit(X_train)\n",
    "X_train_knn = imputer.transform(X_train)\n",
    "X_train_knn_df = pd.DataFrame(X_train_knn, columns=X_train.columns)\n",
    "\n",
    "# imputing test data\n",
    "X_full = X_test.append(X_train)\n",
    "X_full_imputed = imputer.fit_transform(X_full)\n",
    "X_full_knn_df = pd.DataFrame(X_full_imputed, columns=X_full.columns)\n",
    "X_test_knn_df = X_full_knn_df[:len(X_test)]\n",
    "\n",
    "method='knn'\n",
    "\n",
    "X_test_knn_df.to_excel(f'../processed_data/imputed/{method}/x_test.xlsx', index=False)\n",
    "X_train_knn_df.to_excel(f'../processed_data/imputed/{method}/x_train.xlsx', index=False)\n",
    "pd.Series(y_train).to_excel(f'../processed_data/imputed/{method}/y_train.xlsx', index=False)\n",
    "pd.Series(y_test).to_excel(f'../processed_data/imputed/{method}/y_test.xlsx', index=False)"
   ]
  },
  {
   "attachments": {
    "image.png": {
     "image/png": "[encoded data removed]"
    }
   },
   "cell_type": "markdown",
   "id": "aa770d05",
   "metadata": {},
   "source": [
    "![image.png](attachment:image.png)"
   ]
  },
  {
   "cell_type": "markdown",
   "id": "47a44f0d",
   "metadata": {},
   "source": [
    "# Dropped Nans"
   ]
  },
  {
   "cell_type": "code",
   "execution_count": 24,
   "id": "2db4f2cc",
   "metadata": {},
   "outputs": [
    {
     "name": "stdout",
     "output_type": "stream",
     "text": [
      "NaNs: \n",
      "dental_access                       3116\n",
      "gp_access                           2671\n",
      "ofsted                              2412\n",
      "road_casualties                     1909\n",
      "childhood_tooth_decay               1520\n",
      "processing                           989\n",
      "infant_mortality                     974\n",
      "crimes                               800\n",
      "bankruptcy_pp                        489\n",
      "house_sales_pp                       489\n",
      "suicide_rates                        486\n",
      "house_sales                          486\n",
      "productivity                         469\n",
      "bankruptcy                           423\n",
      "previous_period_happiness_change     405\n",
      "dtype: int64\n",
      "\n",
      "Threshold:  2628\n",
      "Original shape: (3429, 34)\n",
      "Shape after removing columns with less than 2628 values: (3429, 27)\n",
      "\n",
      "columns_dropped:\n",
      " {'road_casualties', 'processing', 'childhood_tooth_decay', 'gp_access', 'ofsted', 'dental_access', 'infant_mortality'}\n",
      "(1972, 27)\n"
     ]
    }
   ],
   "source": [
    "#remove cols with more than 800 nans\n",
    "print('NaNs: ')\n",
    "print(df.isna().sum().sort_values(ascending=False)[:15])\n",
    "\n",
    "columns_1 = df.columns\n",
    "\n",
    "threshold = len(df) - 801\n",
    "print('\\nThreshold: ', threshold)\n",
    "print('Original shape:', df.shape)\n",
    "df = df.dropna(axis=1, thresh=threshold)\n",
    "print('Shape after removing columns with less than', threshold, 'values:', df.shape)\n",
    "\n",
    "columns_dropped = set(columns_1) - set(df.columns) \n",
    "print('\\ncolumns_dropped:\\n', columns_dropped)\n",
    "\n",
    "columns = df.columns[~df.columns.isin(targets)]\n",
    "\n",
    "df_no_nans = df.dropna(axis=0)\n",
    "print(df_no_nans.shape)\n",
    "y = df_no_nans['mean_happiness_binary']\n",
    "X = df_no_nans[columns]"
   ]
  },
  {
   "cell_type": "code",
   "execution_count": 25,
   "id": "f2ed34bb",
   "metadata": {},
   "outputs": [],
   "source": [
    "#Splitting into train test validate, 80 : 10 : 10\n",
    "X_train, X_remaining, y_train, y_remaining = train_test_split(X,y, train_size=0.8, random_state=42)\n",
    "X_valid, X_test, y_valid, y_test = train_test_split(X_remaining, y_remaining, test_size=0.5, random_state=42)\n",
    "\n",
    "X_train.to_csv('../processed_data/nans_removed/x_train.csv', index=False)\n",
    "y_train.to_csv('../processed_data/nans_removed/y_train.csv', index=False)\n",
    "\n",
    "X_test.to_csv('../processed_data/nans_removed/X_test.csv', index=False)\n",
    "y_test.to_csv('../processed_data/nans_removed/y_test.csv', index=False)\n",
    "\n",
    "X_valid.to_csv('../processed_data/nans_removed/X_valid.csv', index=False)\n",
    "y_valid.to_csv('../processed_data/nans_removed/y_valid.csv', index=False)"
   ]
  },
  {
   "cell_type": "markdown",
   "id": "b8b44bdf",
   "metadata": {},
   "source": [
    "## 3 Clusters"
   ]
  },
  {
   "cell_type": "code",
   "execution_count": 26,
   "id": "6b7948c0",
   "metadata": {},
   "outputs": [],
   "source": [
    "y = df_no_nans['mean_happiness_3clusters']\n",
    "X = df_no_nans[columns]\n",
    "\n",
    "#Splitting into train test validate, 80 : 10 : 10\n",
    "X_train, X_remaining, y_train, y_remaining = train_test_split(X,y, train_size=0.8, random_state=42)\n",
    "X_valid, X_test, y_valid, y_test = train_test_split(X_remaining, y_remaining, test_size=0.5, random_state=42)\n",
    "\n",
    "X_train.to_csv('../processed_data/3_clusters/x_train.csv', index=False)\n",
    "y_train.to_csv('../processed_data/3_clusters/y_train.csv', index=False)\n",
    "\n",
    "X_test.to_csv('../processed_data/3_clusters/X_test.csv', index=False)\n",
    "y_test.to_csv('../processed_data/3_clusters/y_test.csv', index=False)\n",
    "\n",
    "X_valid.to_csv('../processed_data/3_clusters/X_valid.csv', index=False)\n",
    "y_valid.to_csv('../processed_data/3_clusters/y_valid.csv', index=False)"
   ]
  },
  {
   "cell_type": "code",
   "execution_count": 27,
   "id": "d9855d5a",
   "metadata": {
    "scrolled": true
   },
   "outputs": [
    {
     "data": {
      "text/html": [
       "<div>\n",
       "<style scoped>\n",
       "    .dataframe tbody tr th:only-of-type {\n",
       "        vertical-align: middle;\n",
       "    }\n",
       "\n",
       "    .dataframe tbody tr th {\n",
       "        vertical-align: top;\n",
       "    }\n",
       "\n",
       "    .dataframe thead th {\n",
       "        text-align: right;\n",
       "    }\n",
       "</style>\n",
       "<table border=\"1\" class=\"dataframe\">\n",
       "  <thead>\n",
       "    <tr style=\"text-align: right;\">\n",
       "      <th></th>\n",
       "      <th>Year</th>\n",
       "      <th>suicide_rates</th>\n",
       "      <th>crimes</th>\n",
       "      <th>population</th>\n",
       "      <th>population_density</th>\n",
       "      <th>unemployment</th>\n",
       "      <th>mean_income_support</th>\n",
       "      <th>n_is_claimants</th>\n",
       "      <th>house_sales</th>\n",
       "      <th>bankruptcy</th>\n",
       "      <th>...</th>\n",
       "      <th>Medium Town</th>\n",
       "      <th>Small Town</th>\n",
       "      <th>Village or smaller</th>\n",
       "      <th>gardens_perc</th>\n",
       "      <th>income_support_rate</th>\n",
       "      <th>house_sales_pp</th>\n",
       "      <th>bankruptcy_pp</th>\n",
       "      <th>no_rainy_days</th>\n",
       "      <th>inflation</th>\n",
       "      <th>previous_period_happiness_change</th>\n",
       "    </tr>\n",
       "  </thead>\n",
       "  <tbody>\n",
       "    <tr>\n",
       "      <th>1151</th>\n",
       "      <td>0.375</td>\n",
       "      <td>0.463768</td>\n",
       "      <td>0.736753</td>\n",
       "      <td>0.343446</td>\n",
       "      <td>0.358331</td>\n",
       "      <td>0.562465</td>\n",
       "      <td>0.462864</td>\n",
       "      <td>0.943170</td>\n",
       "      <td>0.465032</td>\n",
       "      <td>0.536585</td>\n",
       "      <td>...</td>\n",
       "      <td>0.000000</td>\n",
       "      <td>0.007485</td>\n",
       "      <td>0.045605</td>\n",
       "      <td>0.884658</td>\n",
       "      <td>0.449197</td>\n",
       "      <td>0.789866</td>\n",
       "      <td>0.535352</td>\n",
       "      <td>0.358763</td>\n",
       "      <td>0.070547</td>\n",
       "      <td>0.528634</td>\n",
       "    </tr>\n",
       "    <tr>\n",
       "      <th>1473</th>\n",
       "      <td>0.375</td>\n",
       "      <td>0.521739</td>\n",
       "      <td>0.670260</td>\n",
       "      <td>0.356006</td>\n",
       "      <td>0.355400</td>\n",
       "      <td>0.616232</td>\n",
       "      <td>0.460184</td>\n",
       "      <td>0.961234</td>\n",
       "      <td>0.488486</td>\n",
       "      <td>0.678049</td>\n",
       "      <td>...</td>\n",
       "      <td>0.009011</td>\n",
       "      <td>0.000000</td>\n",
       "      <td>0.024697</td>\n",
       "      <td>0.868981</td>\n",
       "      <td>0.449520</td>\n",
       "      <td>0.790058</td>\n",
       "      <td>0.537308</td>\n",
       "      <td>0.358763</td>\n",
       "      <td>0.070547</td>\n",
       "      <td>0.577093</td>\n",
       "    </tr>\n",
       "    <tr>\n",
       "      <th>2594</th>\n",
       "      <td>0.750</td>\n",
       "      <td>0.565217</td>\n",
       "      <td>0.668681</td>\n",
       "      <td>0.248449</td>\n",
       "      <td>0.333996</td>\n",
       "      <td>0.596714</td>\n",
       "      <td>0.462098</td>\n",
       "      <td>0.979805</td>\n",
       "      <td>0.366098</td>\n",
       "      <td>0.800000</td>\n",
       "      <td>...</td>\n",
       "      <td>0.000000</td>\n",
       "      <td>0.269974</td>\n",
       "      <td>0.759489</td>\n",
       "      <td>0.910414</td>\n",
       "      <td>0.449066</td>\n",
       "      <td>0.788584</td>\n",
       "      <td>0.539774</td>\n",
       "      <td>0.200000</td>\n",
       "      <td>0.359422</td>\n",
       "      <td>0.704846</td>\n",
       "    </tr>\n",
       "    <tr>\n",
       "      <th>1600</th>\n",
       "      <td>0.500</td>\n",
       "      <td>0.543478</td>\n",
       "      <td>0.670941</td>\n",
       "      <td>0.249897</td>\n",
       "      <td>0.335437</td>\n",
       "      <td>0.630310</td>\n",
       "      <td>0.530245</td>\n",
       "      <td>0.987721</td>\n",
       "      <td>0.439659</td>\n",
       "      <td>0.770732</td>\n",
       "      <td>...</td>\n",
       "      <td>0.234952</td>\n",
       "      <td>0.600431</td>\n",
       "      <td>0.255831</td>\n",
       "      <td>0.967525</td>\n",
       "      <td>0.449586</td>\n",
       "      <td>0.793325</td>\n",
       "      <td>0.538211</td>\n",
       "      <td>0.247423</td>\n",
       "      <td>0.679061</td>\n",
       "      <td>0.607930</td>\n",
       "    </tr>\n",
       "    <tr>\n",
       "      <th>1542</th>\n",
       "      <td>0.500</td>\n",
       "      <td>0.637681</td>\n",
       "      <td>0.674707</td>\n",
       "      <td>0.235890</td>\n",
       "      <td>0.332989</td>\n",
       "      <td>0.683600</td>\n",
       "      <td>0.541348</td>\n",
       "      <td>0.982444</td>\n",
       "      <td>0.407463</td>\n",
       "      <td>0.741463</td>\n",
       "      <td>...</td>\n",
       "      <td>0.000000</td>\n",
       "      <td>0.474711</td>\n",
       "      <td>0.577097</td>\n",
       "      <td>0.945129</td>\n",
       "      <td>0.448705</td>\n",
       "      <td>0.793695</td>\n",
       "      <td>0.535322</td>\n",
       "      <td>0.247423</td>\n",
       "      <td>0.679061</td>\n",
       "      <td>0.356828</td>\n",
       "    </tr>\n",
       "    <tr>\n",
       "      <th>...</th>\n",
       "      <td>...</td>\n",
       "      <td>...</td>\n",
       "      <td>...</td>\n",
       "      <td>...</td>\n",
       "      <td>...</td>\n",
       "      <td>...</td>\n",
       "      <td>...</td>\n",
       "      <td>...</td>\n",
       "      <td>...</td>\n",
       "      <td>...</td>\n",
       "      <td>...</td>\n",
       "      <td>...</td>\n",
       "      <td>...</td>\n",
       "      <td>...</td>\n",
       "      <td>...</td>\n",
       "      <td>...</td>\n",
       "      <td>...</td>\n",
       "      <td>...</td>\n",
       "      <td>...</td>\n",
       "      <td>...</td>\n",
       "      <td>...</td>\n",
       "    </tr>\n",
       "    <tr>\n",
       "      <th>1861</th>\n",
       "      <td>0.500</td>\n",
       "      <td>0.528986</td>\n",
       "      <td>0.729507</td>\n",
       "      <td>0.296723</td>\n",
       "      <td>0.342249</td>\n",
       "      <td>0.386324</td>\n",
       "      <td>0.502297</td>\n",
       "      <td>0.973716</td>\n",
       "      <td>0.467804</td>\n",
       "      <td>0.868293</td>\n",
       "      <td>...</td>\n",
       "      <td>0.000000</td>\n",
       "      <td>0.053142</td>\n",
       "      <td>0.072270</td>\n",
       "      <td>0.922732</td>\n",
       "      <td>0.449478</td>\n",
       "      <td>0.790968</td>\n",
       "      <td>0.540385</td>\n",
       "      <td>0.247423</td>\n",
       "      <td>0.679061</td>\n",
       "      <td>0.519824</td>\n",
       "    </tr>\n",
       "    <tr>\n",
       "      <th>2099</th>\n",
       "      <td>0.625</td>\n",
       "      <td>0.565217</td>\n",
       "      <td>0.667820</td>\n",
       "      <td>0.269072</td>\n",
       "      <td>0.376811</td>\n",
       "      <td>0.512004</td>\n",
       "      <td>0.516080</td>\n",
       "      <td>0.953724</td>\n",
       "      <td>0.064819</td>\n",
       "      <td>0.814634</td>\n",
       "      <td>...</td>\n",
       "      <td>0.000000</td>\n",
       "      <td>0.000000</td>\n",
       "      <td>0.000000</td>\n",
       "      <td>0.760358</td>\n",
       "      <td>0.448453</td>\n",
       "      <td>0.776245</td>\n",
       "      <td>0.539711</td>\n",
       "      <td>0.674227</td>\n",
       "      <td>1.000000</td>\n",
       "      <td>0.563877</td>\n",
       "    </tr>\n",
       "    <tr>\n",
       "      <th>1538</th>\n",
       "      <td>0.500</td>\n",
       "      <td>0.456522</td>\n",
       "      <td>0.715696</td>\n",
       "      <td>0.299876</td>\n",
       "      <td>0.334286</td>\n",
       "      <td>0.686631</td>\n",
       "      <td>0.538285</td>\n",
       "      <td>0.961335</td>\n",
       "      <td>0.562260</td>\n",
       "      <td>0.673171</td>\n",
       "      <td>...</td>\n",
       "      <td>0.368068</td>\n",
       "      <td>0.284626</td>\n",
       "      <td>0.224176</td>\n",
       "      <td>0.935050</td>\n",
       "      <td>0.449207</td>\n",
       "      <td>0.793233</td>\n",
       "      <td>0.536418</td>\n",
       "      <td>0.247423</td>\n",
       "      <td>0.679061</td>\n",
       "      <td>0.462555</td>\n",
       "    </tr>\n",
       "    <tr>\n",
       "      <th>2331</th>\n",
       "      <td>0.750</td>\n",
       "      <td>0.608696</td>\n",
       "      <td>0.743867</td>\n",
       "      <td>0.259355</td>\n",
       "      <td>0.336052</td>\n",
       "      <td>0.627834</td>\n",
       "      <td>0.462098</td>\n",
       "      <td>0.990055</td>\n",
       "      <td>0.397015</td>\n",
       "      <td>0.858537</td>\n",
       "      <td>...</td>\n",
       "      <td>0.260745</td>\n",
       "      <td>0.486136</td>\n",
       "      <td>0.294329</td>\n",
       "      <td>0.950728</td>\n",
       "      <td>0.449785</td>\n",
       "      <td>0.790007</td>\n",
       "      <td>0.541743</td>\n",
       "      <td>0.200000</td>\n",
       "      <td>0.359422</td>\n",
       "      <td>0.497797</td>\n",
       "    </tr>\n",
       "    <tr>\n",
       "      <th>1857</th>\n",
       "      <td>0.500</td>\n",
       "      <td>0.521739</td>\n",
       "      <td>0.685095</td>\n",
       "      <td>0.232892</td>\n",
       "      <td>0.333892</td>\n",
       "      <td>0.406844</td>\n",
       "      <td>0.562787</td>\n",
       "      <td>0.967018</td>\n",
       "      <td>0.391684</td>\n",
       "      <td>0.760976</td>\n",
       "      <td>...</td>\n",
       "      <td>0.261812</td>\n",
       "      <td>0.546243</td>\n",
       "      <td>0.280181</td>\n",
       "      <td>0.973124</td>\n",
       "      <td>0.446437</td>\n",
       "      <td>0.792626</td>\n",
       "      <td>0.536842</td>\n",
       "      <td>0.247423</td>\n",
       "      <td>0.679061</td>\n",
       "      <td>0.462555</td>\n",
       "    </tr>\n",
       "  </tbody>\n",
       "</table>\n",
       "<p>1577 rows × 24 columns</p>\n",
       "</div>"
      ],
      "text/plain": [
       "       Year  suicide_rates    crimes  population  population_density  \\\n",
       "1151  0.375       0.463768  0.736753    0.343446            0.358331   \n",
       "1473  0.375       0.521739  0.670260    0.356006            0.355400   \n",
       "2594  0.750       0.565217  0.668681    0.248449            0.333996   \n",
       "1600  0.500       0.543478  0.670941    0.249897            0.335437   \n",
       "1542  0.500       0.637681  0.674707    0.235890            0.332989   \n",
       "...     ...            ...       ...         ...                 ...   \n",
       "1861  0.500       0.528986  0.729507    0.296723            0.342249   \n",
       "2099  0.625       0.565217  0.667820    0.269072            0.376811   \n",
       "1538  0.500       0.456522  0.715696    0.299876            0.334286   \n",
       "2331  0.750       0.608696  0.743867    0.259355            0.336052   \n",
       "1857  0.500       0.521739  0.685095    0.232892            0.333892   \n",
       "\n",
       "      unemployment  mean_income_support  n_is_claimants  house_sales  \\\n",
       "1151      0.562465             0.462864        0.943170     0.465032   \n",
       "1473      0.616232             0.460184        0.961234     0.488486   \n",
       "2594      0.596714             0.462098        0.979805     0.366098   \n",
       "1600      0.630310             0.530245        0.987721     0.439659   \n",
       "1542      0.683600             0.541348        0.982444     0.407463   \n",
       "...            ...                  ...             ...          ...   \n",
       "1861      0.386324             0.502297        0.973716     0.467804   \n",
       "2099      0.512004             0.516080        0.953724     0.064819   \n",
       "1538      0.686631             0.538285        0.961335     0.562260   \n",
       "2331      0.627834             0.462098        0.990055     0.397015   \n",
       "1857      0.406844             0.562787        0.967018     0.391684   \n",
       "\n",
       "      bankruptcy  ...  Medium Town  Small Town  Village or smaller  \\\n",
       "1151    0.536585  ...     0.000000    0.007485            0.045605   \n",
       "1473    0.678049  ...     0.009011    0.000000            0.024697   \n",
       "2594    0.800000  ...     0.000000    0.269974            0.759489   \n",
       "1600    0.770732  ...     0.234952    0.600431            0.255831   \n",
       "1542    0.741463  ...     0.000000    0.474711            0.577097   \n",
       "...          ...  ...          ...         ...                 ...   \n",
       "1861    0.868293  ...     0.000000    0.053142            0.072270   \n",
       "2099    0.814634  ...     0.000000    0.000000            0.000000   \n",
       "1538    0.673171  ...     0.368068    0.284626            0.224176   \n",
       "2331    0.858537  ...     0.260745    0.486136            0.294329   \n",
       "1857    0.760976  ...     0.261812    0.546243            0.280181   \n",
       "\n",
       "      gardens_perc  income_support_rate  house_sales_pp  bankruptcy_pp  \\\n",
       "1151      0.884658             0.449197        0.789866       0.535352   \n",
       "1473      0.868981             0.449520        0.790058       0.537308   \n",
       "2594      0.910414             0.449066        0.788584       0.539774   \n",
       "1600      0.967525             0.449586        0.793325       0.538211   \n",
       "1542      0.945129             0.448705        0.793695       0.535322   \n",
       "...            ...                  ...             ...            ...   \n",
       "1861      0.922732             0.449478        0.790968       0.540385   \n",
       "2099      0.760358             0.448453        0.776245       0.539711   \n",
       "1538      0.935050             0.449207        0.793233       0.536418   \n",
       "2331      0.950728             0.449785        0.790007       0.541743   \n",
       "1857      0.973124             0.446437        0.792626       0.536842   \n",
       "\n",
       "      no_rainy_days  inflation  previous_period_happiness_change  \n",
       "1151       0.358763   0.070547                          0.528634  \n",
       "1473       0.358763   0.070547                          0.577093  \n",
       "2594       0.200000   0.359422                          0.704846  \n",
       "1600       0.247423   0.679061                          0.607930  \n",
       "1542       0.247423   0.679061                          0.356828  \n",
       "...             ...        ...                               ...  \n",
       "1861       0.247423   0.679061                          0.519824  \n",
       "2099       0.674227   1.000000                          0.563877  \n",
       "1538       0.247423   0.679061                          0.462555  \n",
       "2331       0.200000   0.359422                          0.497797  \n",
       "1857       0.247423   0.679061                          0.462555  \n",
       "\n",
       "[1577 rows x 24 columns]"
      ]
     },
     "execution_count": 27,
     "metadata": {},
     "output_type": "execute_result"
    }
   ],
   "source": [
    "X_train"
   ]
  },
  {
   "cell_type": "markdown",
   "id": "d5a3dcfa",
   "metadata": {},
   "source": [
    "# Original non converging Imputation"
   ]
  },
  {
   "cell_type": "code",
   "execution_count": 28,
   "id": "e7e0ad08",
   "metadata": {},
   "outputs": [
    {
     "data": {
      "text/plain": [
       "\"imputer = IterativeImputer()\\nimputed = imputer.fit_transform(df)\\ndf_imputed = pd.DataFrame(imputed, columns=df.columns)\\n\\ny = df_imputed['mean_happiness_binary']\\nX = df_imputed[columns]\\n\\n#Splitting into train test validate, 80 : 10 : 10\\nX_train, X_remaining, y_train, y_remaining = train_test_split(X,y, train_size=0.8, random_state=42)\\nX_valid, X_test, y_valid, y_test = train_test_split(X_remaining, y_remaining, test_size=0.5, random_state=42)\\n\\nX_train.to_csv('../processed_data/imputed/x_train.csv', index=False)\\ny_train.to_csv('../processed_data/imputed/y_train.csv', index=False)\\n\\nX_test.to_csv('../processed_data/imputed/X_test.csv', index=False)\\ny_test.to_csv('../processed_data/imputed/y_test.csv', index=False)\\n\\nX_valid.to_csv('../processed_data/imputed/X_valid.csv', index=False)\\ny_valid.to_csv('../processed_data/imputed/y_valid.csv', index=False)\""
      ]
     },
     "execution_count": 28,
     "metadata": {},
     "output_type": "execute_result"
    }
   ],
   "source": [
    "'''imputer = IterativeImputer()\n",
    "imputed = imputer.fit_transform(df)\n",
    "df_imputed = pd.DataFrame(imputed, columns=df.columns)\n",
    "\n",
    "y = df_imputed['mean_happiness_binary']\n",
    "X = df_imputed[columns]\n",
    "\n",
    "#Splitting into train test validate, 80 : 10 : 10\n",
    "X_train, X_remaining, y_train, y_remaining = train_test_split(X,y, train_size=0.8, random_state=42)\n",
    "X_valid, X_test, y_valid, y_test = train_test_split(X_remaining, y_remaining, test_size=0.5, random_state=42)\n",
    "\n",
    "X_train.to_csv('../processed_data/imputed/x_train.csv', index=False)\n",
    "y_train.to_csv('../processed_data/imputed/y_train.csv', index=False)\n",
    "\n",
    "X_test.to_csv('../processed_data/imputed/X_test.csv', index=False)\n",
    "y_test.to_csv('../processed_data/imputed/y_test.csv', index=False)\n",
    "\n",
    "X_valid.to_csv('../processed_data/imputed/X_valid.csv', index=False)\n",
    "y_valid.to_csv('../processed_data/imputed/y_valid.csv', index=False)'''"
   ]
  },
  {
   "cell_type": "code",
   "execution_count": 6,
   "id": "83e560f9",
   "metadata": {},
   "outputs": [
    {
     "ename": "NameError",
     "evalue": "name 'X_train' is not defined",
     "output_type": "error",
     "traceback": [
      "\u001b[1;31m---------------------------------------------------------------------------\u001b[0m",
      "\u001b[1;31mNameError\u001b[0m                                 Traceback (most recent call last)",
      "\u001b[1;32m<ipython-input-6-3acc59cd8ac7>\u001b[0m in \u001b[0;36m<module>\u001b[1;34m\u001b[0m\n\u001b[0;32m      2\u001b[0m     \u001b[0mimputer\u001b[0m \u001b[1;33m=\u001b[0m \u001b[0mKNNImputer\u001b[0m\u001b[1;33m(\u001b[0m\u001b[0mn_neighbors\u001b[0m\u001b[1;33m=\u001b[0m\u001b[0mn\u001b[0m\u001b[1;33m,\u001b[0m \u001b[0mweights\u001b[0m\u001b[1;33m=\u001b[0m\u001b[1;34m'uniform'\u001b[0m\u001b[1;33m,\u001b[0m \u001b[0mmetric\u001b[0m\u001b[1;33m=\u001b[0m\u001b[1;34m'nan_euclidean'\u001b[0m\u001b[1;33m)\u001b[0m\u001b[1;33m\u001b[0m\u001b[1;33m\u001b[0m\u001b[0m\n\u001b[0;32m      3\u001b[0m \u001b[1;33m\u001b[0m\u001b[0m\n\u001b[1;32m----> 4\u001b[1;33m     \u001b[0mimputer\u001b[0m\u001b[1;33m.\u001b[0m\u001b[0mfit\u001b[0m\u001b[1;33m(\u001b[0m\u001b[0mX_train\u001b[0m\u001b[1;33m)\u001b[0m\u001b[1;33m\u001b[0m\u001b[1;33m\u001b[0m\u001b[0m\n\u001b[0m\u001b[0;32m      5\u001b[0m     \u001b[0mX_train_knn\u001b[0m \u001b[1;33m=\u001b[0m \u001b[0mimputer\u001b[0m\u001b[1;33m.\u001b[0m\u001b[0mtransform\u001b[0m\u001b[1;33m(\u001b[0m\u001b[0mX_train\u001b[0m\u001b[1;33m)\u001b[0m\u001b[1;33m\u001b[0m\u001b[1;33m\u001b[0m\u001b[0m\n\u001b[0;32m      6\u001b[0m     \u001b[0mX_train_knn_df\u001b[0m \u001b[1;33m=\u001b[0m \u001b[0mpd\u001b[0m\u001b[1;33m.\u001b[0m\u001b[0mDataFrame\u001b[0m\u001b[1;33m(\u001b[0m\u001b[0mX_train_knn\u001b[0m\u001b[1;33m,\u001b[0m \u001b[0mcolumns\u001b[0m\u001b[1;33m=\u001b[0m\u001b[0mX_train\u001b[0m\u001b[1;33m.\u001b[0m\u001b[0mcolumns\u001b[0m\u001b[1;33m)\u001b[0m\u001b[1;33m\u001b[0m\u001b[1;33m\u001b[0m\u001b[0m\n",
      "\u001b[1;31mNameError\u001b[0m: name 'X_train' is not defined"
     ]
    }
   ],
   "source": []
  },
  {
   "cell_type": "code",
   "execution_count": null,
   "id": "0d080c78",
   "metadata": {},
   "outputs": [],
   "source": []
  },
  {
   "cell_type": "code",
   "execution_count": null,
   "id": "e82fe917",
   "metadata": {},
   "outputs": [],
   "source": []
  }
 ],
 "metadata": {
  "hide_input": false,
  "kernelspec": {
   "display_name": "Python 3",
   "language": "python",
   "name": "python3"
  },
  "language_info": {
   "codemirror_mode": {
    "name": "ipython",
    "version": 3
   },
   "file_extension": ".py",
   "mimetype": "text/x-python",
   "name": "python",
   "nbconvert_exporter": "python",
   "pygments_lexer": "ipython3",
   "version": "3.8.8"
  },
  "toc": {
   "base_numbering": 1,
   "nav_menu": {},
   "number_sections": true,
   "sideBar": true,
   "skip_h1_title": false,
   "title_cell": "Table of Contents",
   "title_sidebar": "Contents",
   "toc_cell": false,
   "toc_position": {
    "height": "calc(100% - 180px)",
    "left": "10px",
    "top": "150px",
    "width": "384px"
   },
   "toc_section_display": true,
   "toc_window_display": true
  }
 },
 "nbformat": 4,
 "nbformat_minor": 5
}
