{
 "cells": [
  {
   "cell_type": "code",
   "execution_count": 1,
   "id": "af5370d1",
   "metadata": {},
   "outputs": [],
   "source": [
    "from numpy import array\n",
    "from sklearn.model_selection import KFold\n",
    "from sklearn.model_selection import cross_val_score\n",
    "from sklearn.impute import SimpleImputer\n",
    "from sklearn.linear_model import LogisticRegression\n",
    "from sklearn.ensemble import RandomForestClassifier\n",
    "from sklearn.ensemble import GradientBoostingClassifier\n",
    "from sklearn import svm\n",
    "import pandas as pd\n",
    "import statistics\n",
    "import xgboost as xgb\n",
    "from xgboost import XGBClassifier\n",
    "from sklearn.impute import KNNImputer\n",
    "from sklearn.metrics import roc_auc_score\n",
    "from sklearn import metrics\n",
    "import numpy as np\n",
    "\n",
    "# data sample\n",
    "data = pd.read_csv('../clustering_data_with_noout_cols.csv')\n",
    "\n",
    "with open(\"features_final.txt\") as f:\n",
    "    features = f.readlines()\n",
    "    features = [f.replace('\\n', '') for f in features]\n",
    "    "
   ]
  },
  {
   "cell_type": "code",
   "execution_count": 2,
   "id": "c2faddb1",
   "metadata": {},
   "outputs": [
    {
     "data": {
      "text/plain": [
       "['previous_period_happiness_change',\n",
       " 'Year',\n",
       " 'mean_income_support_no_outliers',\n",
       " 'productivity',\n",
       " 'n_is_claimants']"
      ]
     },
     "execution_count": 2,
     "metadata": {},
     "output_type": "execute_result"
    }
   ],
   "source": [
    "features = features[:5]\n",
    "features"
   ]
  },
  {
   "cell_type": "code",
   "execution_count": 4,
   "id": "340f71fb",
   "metadata": {},
   "outputs": [
    {
     "name": "stdout",
     "output_type": "stream",
     "text": [
      "0\n",
      "1\n",
      "2\n",
      "3\n"
     ]
    },
    {
     "name": "stderr",
     "output_type": "stream",
     "text": [
      "C:\\Users\\gv9\\Anaconda3\\envs\\uniwork\\lib\\site-packages\\sklearn\\linear_model\\_logistic.py:763: ConvergenceWarning: lbfgs failed to converge (status=1):\n",
      "STOP: TOTAL NO. of ITERATIONS REACHED LIMIT.\n",
      "\n",
      "Increase the number of iterations (max_iter) or scale the data as shown in:\n",
      "    https://scikit-learn.org/stable/modules/preprocessing.html\n",
      "Please also refer to the documentation for alternative solver options:\n",
      "    https://scikit-learn.org/stable/modules/linear_model.html#logistic-regression\n",
      "  n_iter_i = _check_optimize_result(\n"
     ]
    },
    {
     "name": "stdout",
     "output_type": "stream",
     "text": [
      "4\n",
      "5\n",
      "6\n",
      "7\n",
      "8\n",
      "9\n"
     ]
    }
   ],
   "source": [
    "# prepare cross validation\n",
    "kfold = KFold(n_splits=10, shuffle=True, random_state=42)\n",
    "\n",
    "imputed_full = SimpleImputer(strategy='most_frequent').fit_transform(data)\n",
    "imputed_full = pd.DataFrame(imputed_full, columns=data.columns)\n",
    "\n",
    "RF_scores = []\n",
    "LR_scores = []\n",
    "SVM_scores = []\n",
    "XGB_scores = []\n",
    "GB_scores = []\n",
    "\n",
    "RF_aucs = []\n",
    "LR_aucs = []\n",
    "SVM_aucs = []\n",
    "XGB_aucs = []\n",
    "GB_aucs = []\n",
    "\n",
    "RF_cm = []\n",
    "LR_cm = []\n",
    "SVM_cm = []\n",
    "XGB_cm = []\n",
    "GB_cm = []\n",
    "\n",
    "i=0\n",
    "\n",
    "# enumerate splits\n",
    "for train, test in kfold.split(data):\n",
    "    y_train = data['mean_happiness_binary'].iloc[train]\n",
    "    X_train = data[features].iloc[train]\n",
    "    y_test = data['mean_happiness_binary'].iloc[test]\n",
    "    imputer = KNNImputer(n_neighbors=50, weights='distance')\n",
    "\n",
    "    # imputing training\n",
    "    imputer.fit(X_train)\n",
    "    X_train_knn = imputer.transform(X_train)\n",
    "    x_train_imputed = pd.DataFrame(X_train_knn, columns=X_train.columns)\n",
    "\n",
    "    # imputing test data\n",
    "    feature_data = data[features]\n",
    "    X_full_imputed = imputer.fit_transform(feature_data)\n",
    "    X_full_knn_df = pd.DataFrame(X_full_imputed, columns=feature_data.columns)\n",
    "    x_test_imputed = X_full_knn_df.iloc[test]\n",
    "\n",
    "    #run model\n",
    "    LR = LogisticRegression(solver='lbfgs', multi_class='multinomial')\n",
    "    LR.fit(x_train_imputed, y_train)\n",
    "    LR_scores.append(LR.score(x_test_imputed, y_test))\n",
    "    LR_y_pred = LR.predict(x_test_imputed)\n",
    "    LR_aucs.append(roc_auc_score(y_test, LR_y_pred))\n",
    "    LR_cm.append(metrics.confusion_matrix(y_test, LR_y_pred))\n",
    "\n",
    "    RF = RandomForestClassifier(n_estimators=1000, max_depth=10)\n",
    "    RF.fit(x_train_imputed, y_train)\n",
    "    RF_scores.append(RF.score(x_test_imputed, y_test))\n",
    "    RF_y_pred = RF.predict(x_test_imputed)\n",
    "    RF_aucs.append(roc_auc_score(y_test, RF_y_pred))\n",
    "    RF_cm.append(metrics.confusion_matrix(y_test, RF_y_pred))\n",
    "\n",
    "\n",
    "    SVM_ovo = svm.SVC(kernel=\"linear\")\n",
    "    SVM_ovo.fit(x_train_imputed, y_train)\n",
    "    SVM_scores.append(SVM_ovo.score(x_test_imputed, y_test))\n",
    "    SVM_y_pred = SVM_ovo.predict(x_test_imputed)\n",
    "    SVM_aucs.append(roc_auc_score(y_test, SVM_y_pred))\n",
    "    SVM_cm.append(metrics.confusion_matrix(y_test, SVM_y_pred))\n",
    "\n",
    "    GB = GradientBoostingClassifier(n_estimators=1000, max_depth=10)\n",
    "    GB.fit(x_train_imputed, y_train)\n",
    "    GB_scores.append(GB.score(x_test_imputed, y_test))\n",
    "    GB_y_pred = GB.predict(x_test_imputed)\n",
    "    GB_aucs.append(roc_auc_score(y_test, GB_y_pred))\n",
    "    GB_cm.append(metrics.confusion_matrix(y_test, GB_y_pred))\n",
    "    \n",
    "    print(i)\n",
    "    i+=1"
   ]
  },
  {
   "cell_type": "markdown",
   "id": "eaa554c0",
   "metadata": {},
   "source": [
    "# Accuracies"
   ]
  },
  {
   "cell_type": "code",
   "execution_count": 17,
   "id": "6f652f5a",
   "metadata": {
    "scrolled": false
   },
   "outputs": [
    {
     "name": "stdout",
     "output_type": "stream",
     "text": [
      "Linear Regression\n",
      "0.6459507612568837\n",
      "\n",
      "Random Forest\n",
      "0.6535462806676555\n",
      "\n",
      "SVM ono\n",
      "0.6500366562665166\n",
      "\n",
      "Gradient Boost\n",
      "0.6343034456890526\n"
     ]
    }
   ],
   "source": [
    "print('Linear Regression')\n",
    "print(statistics.mean(LR_scores))\n",
    "\n",
    "print('\\nRandom Forest')\n",
    "print(statistics.mean(RF_scores))\n",
    "\n",
    "print('\\nSVM ono')\n",
    "print(statistics.mean(SVM_scores))\n",
    "\n",
    "print('\\nGradient Boost')\n",
    "print(statistics.mean(GB_scores))"
   ]
  },
  {
   "cell_type": "markdown",
   "id": "32ba56cc",
   "metadata": {},
   "source": [
    "# AUC ROC"
   ]
  },
  {
   "cell_type": "code",
   "execution_count": 18,
   "id": "29862b21",
   "metadata": {},
   "outputs": [
    {
     "name": "stdout",
     "output_type": "stream",
     "text": [
      "Linear Regression\n",
      "0.6453973206577325\n",
      "\n",
      "Random Forest\n",
      "0.6522344664617421\n",
      "\n",
      "SVM ono\n",
      "0.6495413790202341\n",
      "\n",
      "Gradient Boost\n",
      "0.6337605301593765\n"
     ]
    }
   ],
   "source": [
    "print('Linear Regression')\n",
    "print(statistics.mean(LR_aucs))\n",
    "\n",
    "print('\\nRandom Forest')\n",
    "print(statistics.mean(RF_aucs))\n",
    "\n",
    "print('\\nSVM ono')\n",
    "print(statistics.mean(SVM_aucs))\n",
    "\n",
    "print('\\nGradient Boost')\n",
    "print(statistics.mean(GB_aucs))"
   ]
  },
  {
   "cell_type": "markdown",
   "id": "2de3c97b",
   "metadata": {},
   "source": [
    "# Confusion Matrix"
   ]
  },
  {
   "cell_type": "code",
   "execution_count": null,
   "id": "2330020e",
   "metadata": {},
   "outputs": [],
   "source": [
    "'''cm = ConfusionMatrix(y_test.to_numpy(), y_pred, digit=5)\n",
    "cm.save_html('RF_pycm2.html')\n",
    "\n",
    "from pycm import*\n",
    "\n",
    "from pandas_profiling import ProfileReport\n",
    "profile = ProfileReport(df_num, title=\"Pandas Profiling Report\",vars={\"num\":{\"low_categorical_threshold\":0}})\n",
    "profile\n",
    "\n",
    "'''"
   ]
  },
  {
   "cell_type": "code",
   "execution_count": 21,
   "id": "6ee75674",
   "metadata": {},
   "outputs": [
    {
     "name": "stdout",
     "output_type": "stream",
     "text": [
      "108.1 116.0 55.3 63.5\n",
      "110.4 111.1 60.2 61.2\n",
      "112.3 110.6 60.7 59.3\n",
      "107.0 110.5 60.8 64.6\n"
     ]
    }
   ],
   "source": [
    "for cm in [RF_cm, LR_cm, SVM_cm, GB_cm]:\n",
    "    cm_flat = [testcase.ravel() for testcase in cm]\n",
    "    tn, fp, fn, tp = np.mean(cm_flat, axis=0)\n",
    "    print(tp, tn, fp, fn)"
   ]
  },
  {
   "cell_type": "markdown",
   "id": "0c81257a",
   "metadata": {},
   "source": [
    "# Exploration"
   ]
  },
  {
   "cell_type": "code",
   "execution_count": 23,
   "id": "a339d24a",
   "metadata": {},
   "outputs": [
    {
     "data": {
      "text/plain": [
       "{'Status': True,\n",
       " 'Message': 'C:\\\\Users\\\\gv9\\\\Uni\\\\Year 2\\\\2 - Applied ML\\\\Predicting Happiness\\\\Notebooks\\\\RF.html.html'}"
      ]
     },
     "execution_count": 23,
     "metadata": {},
     "output_type": "execute_result"
    }
   ],
   "source": [
    "from pycm import *\n",
    "cm = ConfusionMatrix(y_test.to_numpy(), RF_y_pred, digit=5)\n",
    "cm.save_html('RF.html')"
   ]
  },
  {
   "cell_type": "code",
   "execution_count": null,
   "id": "e442d44e",
   "metadata": {},
   "outputs": [],
   "source": []
  }
 ],
 "metadata": {
  "hide_input": false,
  "kernelspec": {
   "display_name": "Python 3",
   "language": "python",
   "name": "python3"
  },
  "language_info": {
   "codemirror_mode": {
    "name": "ipython",
    "version": 3
   },
   "file_extension": ".py",
   "mimetype": "text/x-python",
   "name": "python",
   "nbconvert_exporter": "python",
   "pygments_lexer": "ipython3",
   "version": "3.8.8"
  },
  "toc": {
   "base_numbering": 1,
   "nav_menu": {},
   "number_sections": true,
   "sideBar": true,
   "skip_h1_title": false,
   "title_cell": "Table of Contents",
   "title_sidebar": "Contents",
   "toc_cell": false,
   "toc_position": {},
   "toc_section_display": true,
   "toc_window_display": false
  }
 },
 "nbformat": 4,
 "nbformat_minor": 5
}
